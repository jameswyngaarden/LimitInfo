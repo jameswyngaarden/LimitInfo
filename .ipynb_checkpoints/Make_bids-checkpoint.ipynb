{
 "cells": [
  {
   "cell_type": "code",
   "execution_count": 2,
   "id": "ebdb76db",
   "metadata": {},
   "outputs": [],
   "source": [
    "import os\n",
    "import pandas as pd\n",
    "import re\n",
    "import json\n",
    "import numpy as np\n",
    "os.makedirs('../bids',exist_ok=True)"
   ]
  },
  {
   "cell_type": "markdown",
   "id": "7cf72077",
   "metadata": {},
   "source": [
    "## Manipulations check\n",
    "notes:\n",
    "- some negative values are entered we're making them 0"
   ]
  },
  {
   "cell_type": "code",
   "execution_count": 3,
   "id": "ef6e9372",
   "metadata": {
    "scrolled": true
   },
   "outputs": [
    {
     "name": "stdout",
     "output_type": "stream",
     "text": [
      "../raw_data/decisions-with-limited-information_11.csv\n"
     ]
    },
    {
     "ename": "NameError",
     "evalue": "name 'tmp' is not defined",
     "output_type": "error",
     "traceback": [
      "\u001b[0;31m---------------------------------------------------------------------------\u001b[0m",
      "\u001b[0;31mNameError\u001b[0m                                 Traceback (most recent call last)",
      "\u001b[0;32m<ipython-input-3-1f006e73a78e>\u001b[0m in \u001b[0;36m<module>\u001b[0;34m\u001b[0m\n\u001b[1;32m      8\u001b[0m     \u001b[0;32mfor\u001b[0m \u001b[0msub\u001b[0m \u001b[0;32min\u001b[0m \u001b[0mdf\u001b[0m\u001b[0;34m[\u001b[0m\u001b[0;34m'PROLIFIC_PID'\u001b[0m\u001b[0;34m]\u001b[0m\u001b[0;34m.\u001b[0m\u001b[0munique\u001b[0m\u001b[0;34m(\u001b[0m\u001b[0;34m)\u001b[0m\u001b[0;34m:\u001b[0m\u001b[0;34m\u001b[0m\u001b[0;34m\u001b[0m\u001b[0m\n\u001b[1;32m      9\u001b[0m \u001b[0;34m\u001b[0m\u001b[0m\n\u001b[0;32m---> 10\u001b[0;31m         \u001b[0;32mif\u001b[0m \u001b[0mlen\u001b[0m\u001b[0;34m(\u001b[0m\u001b[0mtmp\u001b[0m\u001b[0;34m[\u001b[0m\u001b[0mtmp\u001b[0m\u001b[0;34m[\u001b[0m\u001b[0;34m'trial_type'\u001b[0m\u001b[0;34m]\u001b[0m\u001b[0;34m==\u001b[0m\u001b[0;34m'survey-html-form'\u001b[0m\u001b[0;34m]\u001b[0m\u001b[0;34m)\u001b[0m\u001b[0;34m==\u001b[0m\u001b[0;36m1\u001b[0m\u001b[0;34m:\u001b[0m\u001b[0;34m\u001b[0m\u001b[0;34m\u001b[0m\u001b[0m\n\u001b[0m\u001b[1;32m     11\u001b[0m             \u001b[0mtmp\u001b[0m\u001b[0;34m=\u001b[0m\u001b[0mdf\u001b[0m\u001b[0;34m[\u001b[0m\u001b[0mdf\u001b[0m\u001b[0;34m[\u001b[0m\u001b[0;34m'PROLIFIC_PID'\u001b[0m\u001b[0;34m]\u001b[0m\u001b[0;34m==\u001b[0m\u001b[0msub\u001b[0m\u001b[0;34m]\u001b[0m\u001b[0;34m.\u001b[0m\u001b[0mcopy\u001b[0m\u001b[0;34m(\u001b[0m\u001b[0;34m)\u001b[0m\u001b[0;34m\u001b[0m\u001b[0;34m\u001b[0m\u001b[0m\n\u001b[1;32m     12\u001b[0m             \u001b[0mrisk_df\u001b[0m\u001b[0;34m=\u001b[0m\u001b[0mtmp\u001b[0m\u001b[0;34m[\u001b[0m\u001b[0mtmp\u001b[0m\u001b[0;34m[\u001b[0m\u001b[0;34m'Blocktype'\u001b[0m\u001b[0;34m]\u001b[0m\u001b[0;34m==\u001b[0m\u001b[0;34m'Risk'\u001b[0m\u001b[0;34m]\u001b[0m\u001b[0;34m\u001b[0m\u001b[0;34m\u001b[0m\u001b[0m\n",
      "\u001b[0;31mNameError\u001b[0m: name 'tmp' is not defined"
     ]
    }
   ],
   "source": [
    "data_dir='../raw_data'\n",
    "files=[data_dir+'/'+fname for fname in os.listdir('../raw_data/') if fname.startswith('decisions')]\n",
    "\n",
    "for f in files:\n",
    "    df=pd.read_csv(f)\n",
    "    df=df[~df['PROLIFIC_PID'].isna()]\n",
    "    print(f)\n",
    "    for sub in df['PROLIFIC_PID'].unique():\n",
    "        \n",
    "        if len(tmp[tmp['trial_type']=='survey-html-form'])==1:\n",
    "            tmp=df[df['PROLIFIC_PID']==sub].copy()\n",
    "            risk_df=tmp[tmp['Blocktype']=='Risk']\n",
    "            risk_df=risk_df[['Blocktype','tnum','rt','color','p1','select','dist','side','response']]\n",
    "            amb_df=tmp[tmp['Blocktype']=='Ambiguity']\n",
    "            amb_df=amb_df[['Blocktype','tnum','rt','color','per','Amb','choice','dist','side','response']]\n",
    "            learn_df=tmp[tmp['Blocktype']=='Learning']\n",
    "            learn_df=learn_df[['Blocktype','tnum','rt','color','per','Amb','RL_feedback','choice','dist','side','response']]\n",
    "\n",
    "            print(sub)\n",
    "            res=json.loads(tmp[tmp['trial_type']=='survey-html-form']['response'].values[0])\n",
    "            red=risk_df[risk_df['color']=='red']['dist'].values[0]\n",
    "            green=risk_df[risk_df['color']=='green']['dist'].values[0]\n",
    "            blue=risk_df[risk_df['color']=='blue']['dist'].values[0]\n",
    "\n",
    "            mem = pd.json_normalize(res).melt()\n",
    "            mem.replace('', 0, inplace=True)\n",
    "            mem['value']=pd.to_numeric(mem['value'],errors='coerce').fillna(0)\n",
    "            mem['Lot_color'] = mem.variable.str[:1]\n",
    "            mem['dist']=mem['Lot_color']\n",
    "            mem['dist']=mem['dist'].str.replace('R',red)\n",
    "            mem['dist']=mem['dist'].str.replace('G',green)\n",
    "            mem['dist']=mem['dist'].str.replace('B',blue)\n",
    "\n",
    "            mem['percent'] = pd.to_numeric(mem.variable.str[1:])\n",
    "            mem=mem[['Lot_color','dist','percent','value']]\n",
    "            mem.rename(columns={\"value\": \"answer\"})\n",
    "            order_df=risk_df.groupby(by='dist').mean().sort_values('tnum').reset_index().reset_index()\n",
    "            order_df['order']=order_df['index']+1\n",
    "            mem['order']=0\n",
    "            mem.loc[mem['dist'] == 'skew', 'order'] = order_df[order_df['dist']=='skew']['order'].values[0]\n",
    "            mem.loc[mem['dist'] == 'wide', 'order'] = order_df[order_df['dist']=='wide']['order'].values[0]\n",
    "            mem.loc[mem['dist'] == 'narrow', 'order'] = order_df[order_df['dist']=='narrow']['order'].values[0]\n",
    "            os.makedirs('../bids/sub-%s'%(sub),exist_ok=True)\n",
    "            risk_df.to_csv('../bids/sub-%s/sub-%s_task-risk_run-1_events.tsv'%(sub,sub),index=False,\n",
    "                           sep='\\t')\n",
    "            amb_df.to_csv('../bids/sub-%s/sub-%s_task-amb_run-1_events.tsv'%(sub,sub),index=False,\n",
    "                           sep='\\t')\n",
    "            learn_df.to_csv('../bids/sub-%s/sub-%s_task-learn_run-1_events.tsv'%(sub,sub),index=False,\n",
    "                           sep='\\t')\n",
    "            mem.to_csv('../bids/sub-%s/sub-%s_mem-report.tsv'%(sub,sub),index=False,\n",
    "                           sep='\\t')"
   ]
  },
  {
   "cell_type": "code",
   "execution_count": 4,
   "id": "bc196f35",
   "metadata": {},
   "outputs": [
    {
     "name": "stdout",
     "output_type": "stream",
     "text": [
      "../raw_data/decisions-with-limited-information_11.csv\n",
      "../raw_data/decisions-with-limited-information_14.csv\n",
      "../raw_data/decisions-with-limited-information_4.csv\n"
     ]
    },
    {
     "name": "stderr",
     "output_type": "stream",
     "text": [
      "/home/strange/anaconda3/lib/python3.7/site-packages/IPython/core/interactiveshell.py:3146: DtypeWarning: Columns (1,25,26,27,28,29) have mixed types.Specify dtype option on import or set low_memory=False.\n",
      "  interactivity=interactivity, compiler=compiler, result=result)\n"
     ]
    },
    {
     "name": "stdout",
     "output_type": "stream",
     "text": [
      "../raw_data/decisions-with-limited-information(1).csv\n",
      "../raw_data/decisions-with-limited-information(11).csv\n",
      "../raw_data/decisions-with-limited-information(7).csv\n"
     ]
    },
    {
     "name": "stderr",
     "output_type": "stream",
     "text": [
      "/home/strange/anaconda3/lib/python3.7/site-packages/IPython/core/interactiveshell.py:3146: DtypeWarning: Columns (51) have mixed types.Specify dtype option on import or set low_memory=False.\n",
      "  interactivity=interactivity, compiler=compiler, result=result)\n"
     ]
    },
    {
     "name": "stdout",
     "output_type": "stream",
     "text": [
      "../raw_data/decisions-with-limited-information(4).csv\n",
      "../raw_data/decisions-with-limited-information_12.csv\n",
      "../raw_data/decisions-with-limited-information(6).csv\n",
      "../raw_data/decisions-with-limited-information(5).csv\n",
      "../raw_data/decisions-with-limited-information_149.csv\n",
      "../raw_data/decisions-with-limited-information(2).csv\n"
     ]
    },
    {
     "name": "stderr",
     "output_type": "stream",
     "text": [
      "/home/strange/anaconda3/lib/python3.7/site-packages/IPython/core/interactiveshell.py:3146: DtypeWarning: Columns (16,46,48,49) have mixed types.Specify dtype option on import or set low_memory=False.\n",
      "  interactivity=interactivity, compiler=compiler, result=result)\n"
     ]
    },
    {
     "name": "stdout",
     "output_type": "stream",
     "text": [
      "../raw_data/decisions-with-limited-information(8).csv\n",
      "../raw_data/decisions-with-limited-information(13).csv\n",
      "../raw_data/decisions-with-limited-information_2.csv\n",
      "../raw_data/decisions-with-limited-information(3).csv\n",
      "../raw_data/decisions-with-limited-information(9).csv\n",
      "../raw_data/decisions-with-limited-information(10).csv\n",
      "../raw_data/decisions-with-limited-information.csv\n",
      "../raw_data/decisions-with-limited-information_15.csv\n",
      "../raw_data/decisions-with-limited-information(12).csv\n"
     ]
    }
   ],
   "source": [
    "data_dir='../raw_data'\n",
    "files=[data_dir+'/'+fname for fname in os.listdir('../raw_data/') if fname.startswith('decisions')]\n",
    "all_subs=[]\n",
    "for f in files:\n",
    "    df=pd.read_csv(f)\n",
    "    df=df[~df['PROLIFIC_PID'].isna()]\n",
    "    print(f)\n",
    "    for sub in df['PROLIFIC_PID'].unique():\n",
    "        tmp=df[df['PROLIFIC_PID']==sub]\n",
    "        if len(tmp[tmp['trial_type']=='survey-multi-choice'].values)>1:\n",
    "            data=[]\n",
    "            data.append(['sub-'+sub])\n",
    "            #USIDepScoring\n",
    "            res=json.loads(tmp[tmp['trial_type']=='survey-multi-choice']['response'].values[1])\n",
    "            if list(res.keys())[0]=='USIDep1':\n",
    "                res=[res[key] for key in list(res.keys())]\n",
    "                res=np.sum([x=='Yes' for x in res])\n",
    "                data.append([res])\n",
    "            else:\n",
    "                print(\"PROBLEM WITH USIDEP\")\n",
    "            #AQ SCORING\n",
    "            res=json.loads(tmp[tmp['trial_type']=='survey-likert']['response'].values[0])\n",
    "            if list(res.keys())[0]=='AQ1':\n",
    "                keysList = list(res.keys())\n",
    "                SocKey=[\"AQ1\",'AQ11','AQ13','AQ15','AQ22','AQ36','AQ44','AQ45', 'AQ47','AQ48']#40\n",
    "                AttSwitchKey=['AQ2','AQ4','AQ10','AQ16','AQ25','AQ32','AQ34', 'AQ37','AQ43','AQ46']#40\n",
    "                AttDetKey=['AQ5','AQ6','AQ9','AQ12','AQ19','AQ23','AQ28', 'AQ29','AQ30','AQ49']#40\n",
    "                CommKey=['AQ7','AQ17','AQ18','AQ26','AQ27','AQ31','AQ33', 'AQ35','AQ38','AQ39']#40\n",
    "                ImgKey=['AQ3','AQ8','AQ14','AQ20','AQ21','AQ24','AQ40','AQ41','AQ42','AQ50']#40\n",
    "\n",
    "                R_score=['AQ1','AQ3','AQ8','AQ10','AQ11','AQ14','AQ15','AQ17','AQ24','AQ25',\n",
    "                         'AQ27','AQ28','AQ29','AQ30','AQ31','AQ32','AQ34','AQ36','AQ37','AQ38','AQ40',\n",
    "                         'AQ44','AQ47','AQ48','AQ49','AQ50']#40\n",
    "                SocScores=[]\n",
    "                AttSwitchScores=[]\n",
    "                AttDetScores=[]\n",
    "                CommScores=[]\n",
    "                ImgScores=[]\n",
    "                AQScores=[]\n",
    "                for key in keysList:\n",
    "                    score=res[key]\n",
    "                    score=score+1\n",
    "                    if key in R_score:\n",
    "                        score=np.abs(score-6)\n",
    "                    score>2\n",
    "                    if key in SocKey:\n",
    "                        SocScores.append(score)\n",
    "                    if key in AttSwitchKey:\n",
    "                        AttSwitchScores.append(score)\n",
    "                    if key in AttDetKey:\n",
    "                        AttDetScores.append(score)\n",
    "                    if key in CommKey:\n",
    "                        CommScores.append(score)\n",
    "                    if key in ImgKey:\n",
    "                        ImgScores.append(score)\n",
    "                    AQScores.append(score)\n",
    "                data.append([np.mean(SocScores)/40*50,np.mean(AttDetScores)/40*50,\n",
    "                             np.mean(AttSwitchScores)/40*50,np.mean(CommScores)/40*50,\n",
    "                             np.mean(ImgScores)/40*50,np.mean(AQScores)/40*50])\n",
    "                #data.append([np.sum(SocScores),np.sum(AttDetScores),np.sum(AttSwitchScores),np.sum(CommScores),np.sum(ImgScores),np.sum(AQScores)])\n",
    "            res=json.loads(tmp[tmp['trial_type']=='survey']['response'].values[0])\n",
    "            data.append([res['age']])\n",
    "            data.append([res['education']])\n",
    "            data.append([res['sex']])\n",
    "            data.append([res['race']])\n",
    "            all_subs.append(np.concatenate(data))\n",
    "df=pd.DataFrame(columns=['sub','USIDep','AQ_Social','AQ_AttnDet','AQ_AttnSwitch','AQ_Commun','AQ_Imagine',\n",
    "                        'AQ_total','age','education','sex','race'],\n",
    "               data=all_subs)\n",
    "df.to_csv('../bids/subjects.tsv',index=False,\n",
    "                           sep='\\t')"
   ]
  },
  {
   "cell_type": "code",
   "execution_count": 5,
   "id": "555cab0a",
   "metadata": {
    "scrolled": false
   },
   "outputs": [
    {
     "name": "stderr",
     "output_type": "stream",
     "text": [
      "/home/strange/anaconda3/lib/python3.7/site-packages/ipykernel_launcher.py:11: SettingWithCopyWarning: \n",
      "A value is trying to be set on a copy of a slice from a DataFrame.\n",
      "Try using .loc[row_indexer,col_indexer] = value instead\n",
      "\n",
      "See the caveats in the documentation: https://pandas.pydata.org/pandas-docs/stable/user_guide/indexing.html#returning-a-view-versus-a-copy\n",
      "  # This is added back by InteractiveShellApp.init_path()\n"
     ]
    },
    {
     "ename": "NameError",
     "evalue": "name 'is_unique' is not defined",
     "output_type": "error",
     "traceback": [
      "\u001b[0;31m---------------------------------------------------------------------------\u001b[0m",
      "\u001b[0;31mNameError\u001b[0m                                 Traceback (most recent call last)",
      "\u001b[0;32m<ipython-input-5-9bd1818c28a7>\u001b[0m in \u001b[0;36m<module>\u001b[0;34m\u001b[0m\n\u001b[1;32m     12\u001b[0m             \u001b[0mrisk_df\u001b[0m\u001b[0;34m=\u001b[0m\u001b[0mrisk_df\u001b[0m\u001b[0;34m[\u001b[0m\u001b[0;34m[\u001b[0m\u001b[0;34m'sub'\u001b[0m\u001b[0;34m,\u001b[0m\u001b[0;34m'Blocktype'\u001b[0m\u001b[0;34m,\u001b[0m\u001b[0;34m'tnum'\u001b[0m\u001b[0;34m,\u001b[0m\u001b[0;34m'rt'\u001b[0m\u001b[0;34m,\u001b[0m\u001b[0;34m'color'\u001b[0m\u001b[0;34m,\u001b[0m\u001b[0;34m'p1'\u001b[0m\u001b[0;34m,\u001b[0m\u001b[0;34m'select'\u001b[0m\u001b[0;34m,\u001b[0m\u001b[0;34m'dist'\u001b[0m\u001b[0;34m,\u001b[0m\u001b[0;34m'side'\u001b[0m\u001b[0;34m,\u001b[0m\u001b[0;34m'response'\u001b[0m\u001b[0;34m]\u001b[0m\u001b[0;34m]\u001b[0m\u001b[0;34m\u001b[0m\u001b[0;34m\u001b[0m\u001b[0m\n\u001b[1;32m     13\u001b[0m             \u001b[0mdfr\u001b[0m\u001b[0;34m.\u001b[0m\u001b[0mappend\u001b[0m\u001b[0;34m(\u001b[0m\u001b[0mrisk_df\u001b[0m\u001b[0;34m)\u001b[0m\u001b[0;34m\u001b[0m\u001b[0;34m\u001b[0m\u001b[0m\n\u001b[0;32m---> 14\u001b[0;31m             \u001b[0;32mif\u001b[0m \u001b[0;32mnot\u001b[0m \u001b[0mis_unique\u001b[0m\u001b[0;34m(\u001b[0m\u001b[0mrisk_df\u001b[0m\u001b[0;34m[\u001b[0m\u001b[0mrisk_df\u001b[0m\u001b[0;34m[\u001b[0m\u001b[0;34m'color'\u001b[0m\u001b[0;34m]\u001b[0m\u001b[0;34m==\u001b[0m\u001b[0;34m'blue'\u001b[0m\u001b[0;34m]\u001b[0m\u001b[0;34m[\u001b[0m\u001b[0;34m'dist'\u001b[0m\u001b[0;34m]\u001b[0m\u001b[0;34m)\u001b[0m\u001b[0;34m:\u001b[0m\u001b[0;34m\u001b[0m\u001b[0;34m\u001b[0m\u001b[0m\n\u001b[0m\u001b[1;32m     15\u001b[0m                 \u001b[0mprint\u001b[0m\u001b[0;34m(\u001b[0m\u001b[0msub\u001b[0m\u001b[0;34m)\u001b[0m\u001b[0;34m\u001b[0m\u001b[0;34m\u001b[0m\u001b[0m\n\u001b[1;32m     16\u001b[0m             \u001b[0mprint\u001b[0m\u001b[0;34m(\u001b[0m\u001b[0mis_unique\u001b[0m\u001b[0;34m(\u001b[0m\u001b[0mrisk_df\u001b[0m\u001b[0;34m[\u001b[0m\u001b[0mrisk_df\u001b[0m\u001b[0;34m[\u001b[0m\u001b[0;34m'color'\u001b[0m\u001b[0;34m]\u001b[0m\u001b[0;34m==\u001b[0m\u001b[0;34m'blue'\u001b[0m\u001b[0;34m]\u001b[0m\u001b[0;34m[\u001b[0m\u001b[0;34m'dist'\u001b[0m\u001b[0;34m]\u001b[0m\u001b[0;34m)\u001b[0m\u001b[0;34m)\u001b[0m\u001b[0;34m\u001b[0m\u001b[0;34m\u001b[0m\u001b[0m\n",
      "\u001b[0;31mNameError\u001b[0m: name 'is_unique' is not defined"
     ]
    }
   ],
   "source": [
    "dfr=[]\n",
    "for f in files:\n",
    "    df=pd.read_csv(f)\n",
    "    df=df[~df['PROLIFIC_PID'].isna()]\n",
    "   # print(f)\n",
    "    for sub in df['PROLIFIC_PID'].unique():\n",
    "        \n",
    "        tmp=df[df['PROLIFIC_PID']==sub]\n",
    "        if len(tmp[tmp['trial_type']=='survey-html-form'])==1:\n",
    "            risk_df=tmp[tmp['Blocktype']=='Risk']\n",
    "            risk_df['sub']=sub\n",
    "            risk_df=risk_df[['sub','Blocktype','tnum','rt','color','p1','select','dist','side','response']]\n",
    "            dfr.append(risk_df)\n",
    "            if not is_unique(risk_df[risk_df['color']=='blue']['dist']):\n",
    "                print(sub)\n",
    "            print(is_unique(risk_df[risk_df['color']=='blue']['dist']))\n",
    "df=pd.concat(dfr)"
   ]
  },
  {
   "cell_type": "code",
   "execution_count": null,
   "id": "d770f52b",
   "metadata": {},
   "outputs": [],
   "source": []
  },
  {
   "cell_type": "code",
   "execution_count": 65,
   "id": "db1f3354",
   "metadata": {},
   "outputs": [
    {
     "name": "stdout",
     "output_type": "stream",
     "text": [
      "narrow skew wide\n",
      "True\n",
      "narrow skew wide\n",
      "True\n"
     ]
    }
   ],
   "source": [
    "vals=[]\n",
    "df1=df.groupby(by=['sub','dist']).mean().reset_index().copy()\n",
    "df1['dist']=df1['dist'].astype('str') \n",
    "narrow=df1['dist'].unique()[0]\n",
    "skew=df1['dist'].unique()[1]\n",
    "wide=df1['dist'].unique()[2]\n",
    "print(narrow,skew,wide)\n",
    "for sub in df1['sub'].unique():\n",
    "    vals.append(df1[\n",
    "        (df1['sub']==sub)&(df1['dist']==skew)]['p1'].values[0]>\n",
    "                df1[(df1['sub']==sub)&(df1['dist']==wide)]['p1'].values[0])\n",
    "    vals.append(df1[\n",
    "        (df1['sub']==sub)&(df1['dist']==skew)]['p1'].values[0]>\n",
    "                df1[(df1['sub']==sub)&(df1['dist']==narrow)]['p1'].values[0])\n",
    "\n",
    "print(all(vals))\n",
    "\n",
    "vals=[]\n",
    "df1=df.groupby(by=['sub','dist']).std().reset_index().copy()\n",
    "df1['dist']=df1['dist'].astype('str') \n",
    "narrow=df1['dist'].unique()[0]\n",
    "skew=df1['dist'].unique()[1]\n",
    "wide=df1['dist'].unique()[2]\n",
    "print(narrow,skew,wide)\n",
    "for sub in df1['sub'].unique():\n",
    "    vals.append(df1[\n",
    "        (df1['sub']==sub)&(df1['dist']==wide)]['p1'].values[0]>\n",
    "                df1[(df1['sub']==sub)&(df1['dist']==narrow)]['p1'].values[0])\n",
    "    vals.append(df1[\n",
    "        (df1['sub']==sub)&(df1['dist']==wide)]['p1'].values[0]>\n",
    "                df1[(df1['sub']==sub)&(df1['dist']==skew)]['p1'].values[0])\n",
    "print(all(vals))\n"
   ]
  },
  {
   "cell_type": "code",
   "execution_count": 66,
   "id": "25cd6720",
   "metadata": {},
   "outputs": [],
   "source": [
    "def is_unique(s):\n",
    "    a = s.to_numpy() # s.values (pandas<0.24)\n",
    "    return (a[0] == a).all()\n",
    "\n",
    "is_unique(df['counts'])"
   ]
  },
  {
   "cell_type": "code",
   "execution_count": null,
   "id": "92574ec0",
   "metadata": {},
   "outputs": [],
   "source": []
  }
 ],
 "metadata": {
  "kernelspec": {
   "display_name": "Python 3",
   "language": "python",
   "name": "python3"
  },
  "language_info": {
   "codemirror_mode": {
    "name": "ipython",
    "version": 3
   },
   "file_extension": ".py",
   "mimetype": "text/x-python",
   "name": "python",
   "nbconvert_exporter": "python",
   "pygments_lexer": "ipython3",
   "version": "3.7.9"
  }
 },
 "nbformat": 4,
 "nbformat_minor": 5
}
