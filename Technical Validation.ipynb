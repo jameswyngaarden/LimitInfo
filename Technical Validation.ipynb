{
 "cells": [
  {
   "cell_type": "markdown",
   "id": "effbefe7",
   "metadata": {},
   "source": [
    "## Study 1:\n",
    "# Missing Trials"
   ]
  },
  {
   "cell_type": "code",
   "execution_count": 10,
   "id": "1db70fcd",
   "metadata": {},
   "outputs": [],
   "source": [
    "import os\n",
    "import pandas as pd\n",
    "import numpy as np\n",
    "import scipy.stats \n",
    "import re"
   ]
  },
  {
   "cell_type": "code",
   "execution_count": 19,
   "id": "f31ac650",
   "metadata": {},
   "outputs": [],
   "source": [
    "subs=[sub for sub in os.listdir('../istart/risk_amb/data') if sub.startswith('sub-')]\n",
    "risk_files=['../istart/risk_amb/data/%s/%s_task-risk_events.csv'%(sub,sub) for sub in subs]\n",
    "amb_files=['../istart/risk_amb/data/%s/%s_task-ambiguity_events.csv'%(sub,sub) for sub in subs]\n",
    "df=[]\n",
    "for f in risk_files:\n",
    "    sub=re.search('data/(.*)/sub',f).group(1)\n",
    "    if os.path.exists(f):\n",
    "        tmp=pd.read_csv(f)\n",
    "        tmp['sub']=sub\n",
    "        df.append(tmp)\n",
    "risk_df=pd.concat(df)\n",
    "df=[]\n",
    "for f in amb_files:\n",
    "    sub=re.search('data/(.*)/sub',f).group(1)\n",
    "    if os.path.exists(f):\n",
    "        tmp=pd.read_csv(f)\n",
    "        tmp['sub']=sub\n",
    "        df.append(tmp)\n",
    "amb_df=pd.concat(df)\n"
   ]
  },
  {
   "cell_type": "code",
   "execution_count": 21,
   "id": "8aef5776",
   "metadata": {},
   "outputs": [
    {
     "data": {
      "text/plain": [
       "array([\"['j']\", \"['f']\", 'No_resp'], dtype=object)"
      ]
     },
     "execution_count": 21,
     "metadata": {},
     "output_type": "execute_result"
    }
   ],
   "source": []
  },
  {
   "cell_type": "markdown",
   "id": "0a98b49f",
   "metadata": {},
   "source": [
    "# Reaction Time\n"
   ]
  },
  {
   "cell_type": "code",
   "execution_count": null,
   "id": "59407896",
   "metadata": {},
   "outputs": [],
   "source": []
  },
  {
   "cell_type": "markdown",
   "id": "4bb0aaf0",
   "metadata": {},
   "source": [
    "# Distribution Description\n"
   ]
  },
  {
   "cell_type": "code",
   "execution_count": null,
   "id": "84625e1a",
   "metadata": {},
   "outputs": [],
   "source": []
  },
  {
   "cell_type": "markdown",
   "id": "438a0c72",
   "metadata": {},
   "source": [
    "# Choice Regression"
   ]
  },
  {
   "cell_type": "code",
   "execution_count": null,
   "id": "07c3a24b",
   "metadata": {},
   "outputs": [],
   "source": []
  }
 ],
 "metadata": {
  "kernelspec": {
   "display_name": "Python 3 (ipykernel)",
   "language": "python",
   "name": "python3"
  },
  "language_info": {
   "codemirror_mode": {
    "name": "ipython",
    "version": 3
   },
   "file_extension": ".py",
   "mimetype": "text/x-python",
   "name": "python",
   "nbconvert_exporter": "python",
   "pygments_lexer": "ipython3",
   "version": "3.11.4"
  }
 },
 "nbformat": 4,
 "nbformat_minor": 5
}
